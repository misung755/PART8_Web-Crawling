{
 "cells": [
  {
   "cell_type": "code",
   "execution_count": 17,
   "metadata": {},
   "outputs": [],
   "source": [
    "#다음 뉴스 기사 추출\n",
    "import re\n",
    "import requests\n",
    "from bs4 import BeautifulSoup\n",
    "\n",
    "res = requests.get('https://news.daum.net/')\n",
    "soup = BeautifulSoup(res.content, 'html.parser')\n",
    "soup = soup.select('#kakaoContent')[0]\n",
    "\n",
    "extracts = [dict(\n",
    "    title = re.sub('\\s+', ' ', a.get_text().replace('\\n', '')),\n",
    "    link = a['href']\n",
    ") for a in soup.select('a.link_txt')]\n",
    "\n",
    "#extracts"
   ]
  },
  {
   "cell_type": "code",
   "execution_count": 18,
   "metadata": {},
   "outputs": [],
   "source": [
    "# 네이버 실시간 검색어 추출\n",
    "import requests\n",
    "from bs4 import BeautifulSoup\n",
    "\n",
    "res = requests.get('https://www.naver.com/')\n",
    "soup = BeautifulSoup(res.content, 'html.parser')"
   ]
  },
  {
   "cell_type": "code",
   "execution_count": 20,
   "metadata": {},
   "outputs": [
    {
     "data": {
      "text/plain": [
       "{'ts': '2020-05-14T17:39:00+0900',\n",
       " 'sm': 'ag30sgrpmamsi0enmspm',\n",
       " 'rop': [{'ag': '30s'},\n",
       "  {'gr': '02'},\n",
       "  {'ma': '-2'},\n",
       "  {'si': '00'},\n",
       "  {'en': '-2'},\n",
       "  {'sp': '-2'}],\n",
       " 'data': [{'rank': 1, 'keyword': 'sk케미칼', 'keyword_synonyms': []},\n",
       "  {'rank': 2,\n",
       "   'keyword': '한국파스퇴르연구소',\n",
       "   'keyword_synonyms': ['한국파스퇴르연구소 주식', '큐리언트', '한국파스퇴르', '파스퇴르']},\n",
       "  {'rank': 3, 'keyword': 'a3 스틸얼라이브', 'keyword_synonyms': ['a3']},\n",
       "  {'rank': 4, 'keyword': '혜민동물병원', 'keyword_synonyms': []},\n",
       "  {'rank': 5, 'keyword': '스승의날 문구', 'keyword_synonyms': ['스승의날 편지']},\n",
       "  {'rank': 6, 'keyword': '괴질', 'keyword_synonyms': []},\n",
       "  {'rank': 7, 'keyword': '샘표식품', 'keyword_synonyms': ['샘표']},\n",
       "  {'rank': 8, 'keyword': 'SK 바이오랜드', 'keyword_synonyms': []},\n",
       "  {'rank': 9, 'keyword': '태풍', 'keyword_synonyms': []},\n",
       "  {'rank': 10, 'keyword': '유연상', 'keyword_synonyms': []},\n",
       "  {'rank': 11, 'keyword': '김무성', 'keyword_synonyms': []},\n",
       "  {'rank': 12,\n",
       "   'keyword': '나파모스타트 관련주',\n",
       "   'keyword_synonyms': ['한미약품', '제일약품', '나파모스타트', '뉴지랩']},\n",
       "  {'rank': 13, 'keyword': 'n번방 방지법', 'keyword_synonyms': []},\n",
       "  {'rank': 14, 'keyword': 'sk채용', 'keyword_synonyms': []},\n",
       "  {'rank': 15, 'keyword': '최강욱', 'keyword_synonyms': []},\n",
       "  {'rank': 16, 'keyword': '강지환', 'keyword_synonyms': []},\n",
       "  {'rank': 17,\n",
       "   'keyword': '5월 14일 데이',\n",
       "   'keyword_synonyms': ['5월 14일', '장미', '로즈데이']},\n",
       "  {'rank': 18, 'keyword': '한신포차', 'keyword_synonyms': []},\n",
       "  {'rank': 19, 'keyword': '피파모바일', 'keyword_synonyms': []},\n",
       "  {'rank': 20, 'keyword': '다빈', 'keyword_synonyms': ['가수 다빈', '다빈 매니저']}]}"
      ]
     },
     "execution_count": 20,
     "metadata": {},
     "output_type": "execute_result"
    }
   ],
   "source": [
    "#copy cURL\n",
    "import requests\n",
    "\n",
    "headers = {\n",
    "    'authority': 'apis.naver.com',\n",
    "    'pragma': 'no-cache',\n",
    "    'cache-control': 'no-cache',\n",
    "    'accept': 'application/json, text/plain, */*',\n",
    "    'user-agent': 'Mozilla/5.0 (Windows NT 10.0; Win64; x64) AppleWebKit/537.36 (KHTML, like Gecko) Chrome/81.0.4044.138 Safari/537.36',\n",
    "    'origin': 'https://www.naver.com',\n",
    "    'sec-fetch-site': 'same-site',\n",
    "    'sec-fetch-mode': 'cors',\n",
    "    'sec-fetch-dest': 'empty',\n",
    "    'referer': 'https://www.naver.com/',\n",
    "    'accept-language': 'ko-KR,ko;q=0.9,en-US;q=0.8,en;q=0.7',\n",
    "}\n",
    "\n",
    "params = (\n",
    "    ('frm', 'main'),\n",
    "    ('ag', '30s'),\n",
    "    ('gr', '2'),\n",
    "    ('ma', '-2'),\n",
    "    ('si', '0'),\n",
    "    ('en', '-2'),\n",
    "    ('sp', '-2'),\n",
    ")\n",
    "\n",
    "response = requests.get('https://apis.naver.com/mobile_main/srchrank/srchrank', headers=headers, params=params)\n",
    "\n",
    "#NB. Original query string below. It seems impossible to parse and\n",
    "#reproduce query strings 100% accurately so the one below is given\n",
    "#in case the reproduced version is not \"correct\".\n",
    "# response = requests.get('https://apis.naver.com/mobile_main/srchrank/srchrank?frm=main&ag=30s&gr=2&ma=-2&si=0&en=-2&sp=-2', headers=headers)\n",
    "\n",
    "response.json()"
   ]
  },
  {
   "cell_type": "code",
   "execution_count": 29,
   "metadata": {},
   "outputs": [
    {
     "data": {
      "text/plain": [
       "[{'영화': '1917', '평점': [5, 4, 0, 4]},\n",
       " {'영화': '라라랜드', '평점': [3, 3, 4, 0]},\n",
       " {'영화': '엽문4', '평점': [2, 0, 4, 0]},\n",
       " {'영화': '엽문', '평점': [0, 0, 0, 3]},\n",
       " {'영화': '주디', '평점': [5, 0, 1, 2]},\n",
       " {'영화': '신과나', '평점': [0, 5, 0, 5]}]"
      ]
     },
     "execution_count": 29,
     "metadata": {},
     "output_type": "execute_result"
    }
   ],
   "source": [
    "ratings = {\n",
    "     '이숙번': {'1917': 5, '엽문4': 2, '라라랜드': 3, '주디': 5},\n",
    "     '강두루': {'1917': 4, '라라랜드': 3, '신과나': 5},\n",
    "     '이고잉': {'라라랜드': 4, '엽문4': 4, '주디': 1},\n",
    "     '정원혁': {'엽문':3, '신과나': 5, '1917': 4, '주디': 2}\n",
    "}\n",
    "\n",
    "keys = [list(v.keys()) for _, v in ratings.items()] #_: k 받아서 안쓰고 싶을 때\n",
    "\n",
    "#print(sum(keys, [])) #list들의 합 가능(이중 리스트라 이렇게 합쳐야함)\n",
    "keys = set(sum(keys, [])) # 중복 제거\n",
    "\n",
    "movies = []\n",
    "for key in keys:\n",
    "    movies.append({\n",
    "        '영화': key,\n",
    "        '평점': [v.get(key, 0) for k, v in ratings.items()] #0은 Default 값, v의 값이 없을 수도 있으니까 get으로 가져오기\n",
    "    })\n",
    "\n",
    "movies"
   ]
  },
  {
   "cell_type": "code",
   "execution_count": 30,
   "metadata": {},
   "outputs": [
    {
     "name": "stdout",
     "output_type": "stream",
     "text": [
      "1.0\n",
      "4.58257569495584\n",
      "3.1622776601683795\n"
     ]
    }
   ],
   "source": [
    "ratings = {\n",
    "     '이숙번': {'1917': 5, '엽문4': 2, '라라랜드': 3, '주디': 5},\n",
    "     '강두루': {'1917': 4, '라라랜드': 3, '신과나': 5},\n",
    "     '이고잉': {'라라랜드': 4, '엽문4': 4, '주디': 1},\n",
    "     '정원혁': {'엽문':3, '신과나': 5, '1917': 4, '주디': 2}\n",
    "}\n",
    "\n",
    "import math\n",
    "\n",
    "# 이숙번과 취향이 가장 비슷한 사람을 찾아라.\n",
    "def diff(user1, user2):\n",
    "    # user1.keys() -> ['1917', '엽문', '라라랜드', '주디']\n",
    "    # user2.keys() -> ['1917', '라라랜드', '신과나']\n",
    "    # 교집합 keys -> ['1917', '라라랜드']\n",
    "    keys = set(user1.keys()).intersection(set(user2.keys()))\n",
    "    \n",
    "    # [(5 - 4) ** 2, (3 - 3) ** 2]\n",
    "    differs = sum([(user1[k] - user2[k]) ** 2 for k in keys])\n",
    "\n",
    "    return math.sqrt(differs)\n",
    "\n",
    "print(diff(ratings['이숙번'], ratings['강두루']))\n",
    "print(diff(ratings['이숙번'], ratings['이고잉']))\n",
    "print(diff(ratings['이숙번'], ratings['정원혁']))"
   ]
  }
 ],
 "metadata": {
  "kernelspec": {
   "display_name": "Python 3",
   "language": "python",
   "name": "python3"
  },
  "language_info": {
   "codemirror_mode": {
    "name": "ipython",
    "version": 3
   },
   "file_extension": ".py",
   "mimetype": "text/x-python",
   "name": "python",
   "nbconvert_exporter": "python",
   "pygments_lexer": "ipython3",
   "version": "3.7.6"
  }
 },
 "nbformat": 4,
 "nbformat_minor": 4
}
