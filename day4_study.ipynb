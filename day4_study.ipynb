{
 "cells": [
  {
   "cell_type": "code",
   "execution_count": 33,
   "metadata": {},
   "outputs": [
    {
     "name": "stdout",
     "output_type": "stream",
     "text": [
      "let it be\n",
      "9\n",
      "['l', 'e', 't', ' ', 'i', 't', ' ', 'b', 'e']\n"
     ]
    }
   ],
   "source": [
    "# 문자열\n",
    "text = \"let it be\"\n",
    "\n",
    "# 문자열 출력\n",
    "print(text)\n",
    "\n",
    "# 문자열 길이\n",
    "print(len(text))\n",
    "\n",
    "# 각 문자열의 리스트 생성\n",
    "print(list(text))"
   ]
  },
  {
   "cell_type": "code",
   "execution_count": 51,
   "metadata": {},
   "outputs": [
    {
     "name": "stdout",
     "output_type": "stream",
     "text": [
      "['let', 'it', 'be']\n",
      "let it be\n"
     ]
    }
   ],
   "source": [
    "# 문자열 주요 메소드\n",
    "\n",
    "# 문자열 분리\n",
    "print(\"let it be\".split(\" \"))\n",
    "\n",
    "# 문자열 병합\n",
    "print(\" \".join(['let', 'it', 'be']))\n",
    "\n",
    "# 앞뒤 공백 문자열 제거\n",
    "print(\"     let it be     \".strip())"
   ]
  },
  {
   "cell_type": "code",
   "execution_count": 49,
   "metadata": {},
   "outputs": [
    {
     "name": "stdout",
     "output_type": "stream",
     "text": [
      "let it be\n",
      "LET IT BE\n",
      "Let it be\n"
     ]
    }
   ],
   "source": [
    "# 소문자/대문자/첫음절 대문자\n",
    "print('LET IT BE'.lower())\n",
    "print('let it be'.upper())\n",
    "print('let it be'.capitalize())"
   ]
  },
  {
   "cell_type": "code",
   "execution_count": 56,
   "metadata": {},
   "outputs": [
    {
     "name": "stdout",
     "output_type": "stream",
     "text": [
      "4\n",
      "-1\n",
      "let it go\n"
     ]
    }
   ],
   "source": [
    "# 문자열 위치찾기\n",
    "print('let it be'.find('it'))\n",
    "print('let it be'.find('go'))\n",
    "\n",
    "# 문자열 교체\n",
    "print('let it be'.replace('be', 'go'))"
   ]
  },
  {
   "cell_type": "code",
   "execution_count": 60,
   "metadata": {},
   "outputs": [
    {
     "name": "stdout",
     "output_type": "stream",
     "text": [
      "4\n",
      "4\n"
     ]
    }
   ],
   "source": [
    "# 함수 만들기/ lambda 함수 활용\n",
    "def square(x):\n",
    "    return x**2\n",
    "\n",
    "print(square(2))\n",
    "\n",
    "square = lambda x: x**2\n",
    "\n",
    "print(square(2))"
   ]
  },
  {
   "cell_type": "code",
   "execution_count": 63,
   "metadata": {},
   "outputs": [
    {
     "name": "stdout",
     "output_type": "stream",
     "text": [
      "3\n",
      "3\n"
     ]
    }
   ],
   "source": [
    "def add(x,y):\n",
    "    return x+y\n",
    "    \n",
    "print(add(1,2))\n",
    "\n",
    "add_lambda = lambda x,y : x+y\n",
    "print(add_lambda(1,2))"
   ]
  },
  {
   "cell_type": "code",
   "execution_count": 66,
   "metadata": {},
   "outputs": [
    {
     "name": "stdout",
     "output_type": "stream",
     "text": [
      "[80.0, 86.66666666666667, 90.0]\n",
      "[80.0, 86.66666666666667, 90.0]\n",
      "[{'name': 'duru', 'points': [80, 85, 95]}, {'name': 'egoing', 'points': [90, 85, 95]}]\n",
      "[{'name': 'duru', 'points': [80, 85, 95]}, {'name': 'egoing', 'points': [90, 85, 95]}]\n",
      "[{'name': 'duru', 'points': [80, 85, 95]},\n",
      " {'name': 'egoing', 'points': [90, 85, 95]},\n",
      " {'name': 'sookbun', 'points': [60, 80, 100]}]\n",
      "[{'name': 'egoing', 'points': [90, 85, 95]},\n",
      " {'name': 'duru', 'points': [80, 85, 95]},\n",
      " {'name': 'sookbun', 'points': [60, 80, 100]}]\n"
     ]
    }
   ],
   "source": [
    "# map\n",
    "students = [\n",
    "    {'name': 'sookbun', 'points': [60, 80, 100]},\n",
    "    {'name': 'duru', 'points': [80, 85, 95]},\n",
    "    {'name': 'egoing', 'points': [90, 85, 95]}\n",
    "]\n",
    "\n",
    "# map - 평균\n",
    "result = map(lambda x : sum(x['points']) / len(x['points']), students)\n",
    "print(list(result))\n",
    "\n",
    "result = [sum(x['points']) / len(x['points']) for x in students]\n",
    "print(list(result))\n",
    "\n",
    "# filter - 평균 85 이상인 사람들.\n",
    "result = filter(lambda x : (sum(x['points']) / len(x['points'])) > 85, students)\n",
    "print(list(result))\n",
    "\n",
    "result = [x for x in students if (sum(x['points']) / len(x['points'])) > 85] \n",
    "print(list(result))\n",
    "\n",
    "# 정렬 - 평균으로 정렬\n",
    "import pprint\n",
    "pprint.pprint(sorted(students, key=lambda x:x['name']))\n",
    "pprint.pprint(sorted(students, key=lambda x:x['points'][0], reverse=True))"
   ]
  },
  {
   "cell_type": "code",
   "execution_count": 70,
   "metadata": {},
   "outputs": [
    {
     "name": "stdout",
     "output_type": "stream",
     "text": [
      "blakcdew7@gmail.com\n",
      "duru@opentuti.org\n",
      "[('010', '1111-1113'), ('02', '111-1111')]\n"
     ]
    }
   ],
   "source": [
    "# 정규식\n",
    "text = \"\"\"\n",
    "blakcdew7@gmail.com\n",
    "고객센터 010-1111-1113 여기로 전화하세요\n",
    "duru@opentuti.org\n",
    "phone 02)111-1111 대표번호\n",
    "\"\"\"\n",
    "\n",
    "import re\n",
    "regex = re.compile(\"([a-zA-Z0-9_\\-\\.]+)@([a-zA-Z0-9_\\-\\.]+)\\.([a-zA-Z]{2,5})\")\n",
    "emails = regex.findall(text)\n",
    "\n",
    "for i, j, k in emails:\n",
    "    print(f\"{i}@{j}.{k}\")\n",
    "    \n",
    "regex = re.compile(\"(\\d{2,3})[\\-\\)](\\d{3,4}-\\d{4})\")\n",
    "phone = regex.findall(text)\n",
    "\n",
    "print(phone)"
   ]
  },
  {
   "cell_type": "code",
   "execution_count": 72,
   "metadata": {},
   "outputs": [
    {
     "name": "stdout",
     "output_type": "stream",
     "text": [
      "\n",
      "bl***7@gmail.com\n",
      "고객센터 010-1111-1113 여기로 전화하세요\n",
      "du***u@opentuti.org\n",
      "phone 02)111-1111 대표번호\n",
      "\n"
     ]
    }
   ],
   "source": [
    "text = \"\"\"\n",
    "blakcdew7@gmail.com\n",
    "고객센터 010-1111-1113 여기로 전화하세요\n",
    "duru@opentuti.org\n",
    "phone 02)111-1111 대표번호\n",
    "\"\"\"\n",
    "\n",
    "import re\n",
    "regex = re.compile('(\\w\\w)\\w*(\\w)(?=@)')\n",
    "print(regex.sub('\\g<1>***\\g<2>',text))"
   ]
  },
  {
   "cell_type": "code",
   "execution_count": 69,
   "metadata": {},
   "outputs": [
    {
     "data": {
      "text/plain": [
       "['http://info.cern.ch/hypertext/WWW/TheProject.html',\n",
       " 'http://line-mode.cern.ch/www/hypertext/WWW/TheProject.html',\n",
       " 'http://home.web.cern.ch/topics/birth-web',\n",
       " 'http://home.web.cern.ch/about']"
      ]
     },
     "execution_count": 69,
     "metadata": {},
     "output_type": "execute_result"
    }
   ],
   "source": [
    "# requests 라이브러리\n",
    "\n",
    "import requests\n",
    "import re\n",
    "\n",
    "res = requests.get(\"http://info.cern.ch/\")\n",
    "text = res.text\n",
    "\n",
    "regex = re.compile('<a href=\\\"(.+)\\\">')\n",
    "regex.findall(text)"
   ]
  },
  {
   "cell_type": "code",
   "execution_count": 4,
   "metadata": {},
   "outputs": [
    {
     "name": "stdout",
     "output_type": "stream",
     "text": [
      "200\n"
     ]
    }
   ],
   "source": [
    "# requests 라이브러리 - status_code 속성(200 : 정상, 300 : 이동, 400 : 클라이언트 오류, 500 : 서버 오류)\n",
    "import requests\n",
    "response = requests.get('https://api.github.com')\n",
    "print(response.status_code)"
   ]
  },
  {
   "cell_type": "code",
   "execution_count": 9,
   "metadata": {},
   "outputs": [],
   "source": [
    "# requests 라이브러리 - content(bytecode 출력) vs text(unicode 출력)\n",
    "import requests\n",
    "respone = requests.get('http://api.github.com')\n",
    "# response.content"
   ]
  },
  {
   "cell_type": "code",
   "execution_count": 8,
   "metadata": {},
   "outputs": [],
   "source": [
    "# 이미지 파일 저장\n",
    "response = requests.get('https://t1.daumcdn.net/daumtop_chanel/op/20170315064553027.png')\n",
    "\n",
    "with open('다음로고.jpg', 'wb') as f:\n",
    "    f.write(response.content)"
   ]
  },
  {
   "cell_type": "code",
   "execution_count": 14,
   "metadata": {},
   "outputs": [
    {
     "data": {
      "text/plain": [
       "['http://info.cern.ch/hypertext/WWW/TheProject.html',\n",
       " 'http://line-mode.cern.ch/www/hypertext/WWW/TheProject.html',\n",
       " 'http://home.web.cern.ch/topics/birth-web',\n",
       " 'http://home.web.cern.ch/about']"
      ]
     },
     "execution_count": 14,
     "metadata": {},
     "output_type": "execute_result"
    }
   ],
   "source": [
    "# 미션 1. requests로 받아온 HTML에서 a 태그의 href 링크 추출하기(requests와 정규식 활용)\n",
    "\n",
    "import requests\n",
    "import re\n",
    "\n",
    "def get_links(url):\n",
    "    res = requests.get(url)\n",
    "    regex = re.compile('href=\"(.+)\"')\n",
    "    return regex.findall(res.text)\n",
    "\n",
    "link = 'http://info.cern.ch/'\n",
    "get_links(link)"
   ]
  },
  {
   "cell_type": "code",
   "execution_count": 23,
   "metadata": {},
   "outputs": [
    {
     "name": "stdout",
     "output_type": "stream",
     "text": [
      "3\n",
      "2\n",
      "26\n",
      "42\n",
      "66\n",
      "90\n",
      "113\n",
      "137\n",
      "156\n",
      "159\n",
      "158\n"
     ]
    }
   ],
   "source": [
    "# 미션 2. 혼자서 열심히 웹사이트를 돌아다니는 크롤러(url 목록 쌓기, 하나씩 html 받아오기, url 추출하기, 반복)\n",
    "\n",
    "import requests\n",
    "import re\n",
    "\n",
    "def get_links(url):\n",
    "    res = requests.get(url)\n",
    "    regex = re.compile('href=[\"\\'](http[^\"\\']+)[\"\\']') # 정규식 개선\n",
    "    return regex.findall(res.text)\n",
    "    \n",
    "link = \"http://info.cern.ch/\"\n",
    "links = get_links(link)\n",
    "\n",
    "cnt = 0\n",
    "while links:\n",
    "    link = links.pop(0)\n",
    "    links +=get_links(link)\n",
    "    print(len(links))\n",
    "    \n",
    "    cnt += 1\n",
    "    if cnt > 10:\n",
    "        break"
   ]
  },
  {
   "cell_type": "code",
   "execution_count": 75,
   "metadata": {},
   "outputs": [
    {
     "name": "stdout",
     "output_type": "stream",
     "text": [
      "{'let': 2, 'it': 2, 'be,': 1, 'be': 1}\n"
     ]
    }
   ],
   "source": [
    "# 미션3. 영문 문장에서 사용된 단어 개수 세기\n",
    "lyrics = \"let it be, let it be\"\n",
    "\n",
    "# 공백을 기준으로 단어들 분리\n",
    "words = lyrics.split(' ')\n",
    "\n",
    "# 단어별 개수 세기\n",
    "word_dict = {}\n",
    "for w in words:\n",
    "    if w in word_dict:\n",
    "        word_dict[w] += 1\n",
    "    else:\n",
    "        word_dict[w] = 1\n",
    "print(word_dict)"
   ]
  },
  {
   "cell_type": "code",
   "execution_count": null,
   "metadata": {},
   "outputs": [],
   "source": []
  }
 ],
 "metadata": {
  "kernelspec": {
   "display_name": "Python 3",
   "language": "python",
   "name": "python3"
  },
  "language_info": {
   "codemirror_mode": {
    "name": "ipython",
    "version": 3
   },
   "file_extension": ".py",
   "mimetype": "text/x-python",
   "name": "python",
   "nbconvert_exporter": "python",
   "pygments_lexer": "ipython3",
   "version": "3.7.6"
  }
 },
 "nbformat": 4,
 "nbformat_minor": 4
}
